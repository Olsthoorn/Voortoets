FQ = gr.const(N) * gr.AREA
FQ[-1, 0, 0] += -0.75 * FQ.sum()
